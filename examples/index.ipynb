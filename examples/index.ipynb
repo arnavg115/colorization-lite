{
 "cells": [
  {
   "cell_type": "code",
   "execution_count": null,
   "source": [
    "!pip install rz-color-lite\n",
    "!wget -O bw.jpg https://bloximages.chicago2.vip.townnews.com/nwitimes.com/content/tncms/assets/v3/editorial/f/80/f809d1ca-77b7-56e0-9880-0b3534b8c4f2/5670d4e869b52.image.jpg?resize=1200%2C966"
   ],
   "outputs": [],
   "metadata": {}
  },
  {
   "cell_type": "code",
   "execution_count": null,
   "source": [
    "from colorizer_lite import Colorizer\n",
    "import cv2\n",
    "color = Colorizer()\n",
    "img = color.pipeline(\"bw.jpg\")"
   ],
   "outputs": [],
   "metadata": {}
  },
  {
   "cell_type": "code",
   "execution_count": null,
   "source": [
    "print(\"color\")\n",
    "cv2.imshow(img)\n",
    "cv2.show()\n",
    "print(\"bw\")\n",
    "cv2.imshow(cv2.imread(\"bw.jpg\"))"
   ],
   "outputs": [],
   "metadata": {}
  }
 ],
 "metadata": {
  "orig_nbformat": 4,
  "language_info": {
   "name": "python"
  }
 },
 "nbformat": 4,
 "nbformat_minor": 2
}